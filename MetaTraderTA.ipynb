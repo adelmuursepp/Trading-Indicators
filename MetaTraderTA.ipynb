{
 "cells": [
  {
   "cell_type": "code",
   "execution_count": 35,
   "metadata": {},
   "outputs": [],
   "source": [
    "import MetaTrader5 as mt\n",
    "import matplotlib.pyplot as plt \n",
    "plt.style.use(\"seaborn\")\n",
    "import plotly.express as px\n",
    "import pandas as pd\n",
    "from datetime import datetime, timedelta\n",
    "import time\n",
    "from scipy.optimize import brute\n",
    "import numpy as np\n",
    "import ta"
   ]
  },
  {
   "cell_type": "code",
   "execution_count": 36,
   "metadata": {},
   "outputs": [],
   "source": [
    "import talib"
   ]
  },
  {
   "cell_type": "code",
   "execution_count": 37,
   "metadata": {},
   "outputs": [],
   "source": [
    "from Broker import Broker "
   ]
  },
  {
   "cell_type": "code",
   "execution_count": 38,
   "metadata": {},
   "outputs": [
    {
     "name": "stdout",
     "output_type": "stream",
     "text": [
      "Initialized\n"
     ]
    }
   ],
   "source": [
    "xm = Broker(\"xm\", mt, demo = True)"
   ]
  },
  {
   "cell_type": "code",
   "execution_count": 39,
   "metadata": {},
   "outputs": [],
   "source": [
    "def getDataDF(ticker,time_frame,broker,time_steps=10000):\n",
    "    broker.setTimeFrame(time_frame)\n",
    "    broker.setTick(ticker)\n",
    "    return broker.getPastData(time_steps=time_steps)"
   ]
  },
  {
   "cell_type": "code",
   "execution_count": 40,
   "metadata": {},
   "outputs": [],
   "source": [
    "tickers = [\"ETHUSD#,BTCUSD#\",\"AUDUSD#\",\"AUDJPY#\",\"AUDNZD#\",\"AUDCHF#\",\"EURUSD#\",\"EURJPY#\",\"EURAUD#\",\"EURNZD#\",\"EURCHF#\",\"US100Cash\",\"GOLD#\",\"GBPUSD#\",\"GBPJPY#\",\"GBPAUD#\",\"GBPCHF#\",\"GBPNZD#\",\"USDCAD#\",\"GBPCAD#\",\"EURCAD#\"]\n",
    "time_frames = [\"M5\",\"M10\",\"M15\",\"M20\",\"M30\",\"H1\",\"H2\",\"H3\",\"H4\",\"D\"]"
   ]
  },
  {
   "cell_type": "code",
   "execution_count": 57,
   "metadata": {},
   "outputs": [
    {
     "name": "stdout",
     "output_type": "stream",
     "text": [
      "Index(['time', 'open', 'high', 'low', 'close', 'tick_volume', 'spread', 'real_volume'], dtype='object')\n"
     ]
    }
   ],
   "source": [
    "data = getDataDF(\"EURUSD#\",\"15M\",xm,time_steps=2000)#.close.to_frame()"
   ]
  },
  {
   "cell_type": "code",
   "execution_count": 58,
   "metadata": {},
   "outputs": [
    {
     "name": "stderr",
     "output_type": "stream",
     "text": [
      "c:\\users\\india\\anaconda3\\envs\\dl\\lib\\site-packages\\tables\\path.py:155: NaturalNameWarning:\n",
      "\n",
      "object name is not a valid Python identifier: 'GOLD#'; it does not match the pattern ``^[a-zA-Z_][a-zA-Z0-9_]*$``; you will not be able to use natural naming to access this object; using ``getattr()`` will still work, though\n",
      "\n"
     ]
    }
   ],
   "source": [
    "data.to_hdf(\"XMGLobal-demo.h5\",key=\"GOLD#\")"
   ]
  },
  {
   "cell_type": "code",
   "execution_count": 59,
   "metadata": {},
   "outputs": [],
   "source": [
    "pd.set_option(\"display.max_columns\", None)\n",
    "pd.set_option(\"display.max_rows\", None)\n",
    "pd.set_option(\"display.width\", 1000)\n",
    "\n",
    "\n",
    "def Ichimokubacktest(df: pd.DataFrame, tenkan_period: int, kijun_period: int):\n",
    "\n",
    "    # Tenkan Sen : Short-term signal line\n",
    "\n",
    "    df[\"rolling_min_tenkan\"] = df[\"low\"].rolling(window=tenkan_period).min()\n",
    "    df[\"rolling_max_tenkan\"] = df[\"high\"].rolling(window=tenkan_period).max()\n",
    "\n",
    "    df[\"tenkan_sen\"] = (df[\"rolling_max_tenkan\"] + df[\"rolling_min_tenkan\"]) / 2\n",
    "\n",
    "    df.drop([\"rolling_min_tenkan\", \"rolling_max_tenkan\"], axis=1, inplace=True)\n",
    "\n",
    "    # Kijun Sen : Long-term signal line\n",
    "\n",
    "    df[\"rolling_min_kijun\"] = df[\"low\"].rolling(window=kijun_period).min()\n",
    "    df[\"rolling_max_kijun\"] = df[\"high\"].rolling(window=kijun_period).max()\n",
    "\n",
    "    df[\"kijun_sen\"] = (df[\"rolling_max_kijun\"] + df[\"rolling_min_kijun\"]) / 2\n",
    "\n",
    "    df.drop([\"rolling_min_kijun\", \"rolling_max_kijun\"], axis=1, inplace=True)\n",
    "\n",
    "    # Senkou Span A\n",
    "\n",
    "    df[\"senkou_span_a\"] = ((df[\"tenkan_sen\"] + df[\"kijun_sen\"]) / 2).shift(kijun_period)\n",
    "\n",
    "    # Senkou Span B\n",
    "\n",
    "    df[\"rolling_min_senkou\"] = df[\"low\"].rolling(window=kijun_period * 2).min()\n",
    "    df[\"rolling_max_senkou\"] = df[\"high\"].rolling(window=kijun_period * 2).max()\n",
    "\n",
    "    df[\"senkou_span_b\"] = ((df[\"rolling_max_senkou\"] + df[\"rolling_min_senkou\"]) / 2).shift(kijun_period)\n",
    "\n",
    "    df.drop([\"rolling_min_senkou\", \"rolling_max_senkou\"], axis=1, inplace=True)\n",
    "\n",
    "    # Chikou Span : Confirmation line\n",
    "\n",
    "    df[\"chikou_span\"] = df[\"close\"].shift(kijun_period)\n",
    "\n",
    "    df.dropna(inplace=True)\n",
    "\n",
    "    # Signal\n",
    "\n",
    "    df[\"tenkan_minus_kijun\"] = df[\"tenkan_sen\"] - df[\"kijun_sen\"]\n",
    "    df[\"prev_tenkan_minus_kijun\"] = df[\"tenkan_minus_kijun\"].shift(1)\n",
    "\n",
    "    df[\"signal\"] = np.where((df[\"tenkan_minus_kijun\"] > 0) &\n",
    "                            (df[\"prev_tenkan_minus_kijun\"] < 0) &\n",
    "                            (df[\"close\"] > df[\"senkou_span_a\"]) &\n",
    "                            (df[\"close\"] > df[\"senkou_span_b\"]) &\n",
    "                            (df[\"close\"] > df[\"chikou_span\"]), 1,\n",
    "\n",
    "                            np.where((df[\"tenkan_minus_kijun\"] < 0) &\n",
    "                            (df[\"prev_tenkan_minus_kijun\"] > 0) &\n",
    "                            (df[\"close\"] < df[\"senkou_span_a\"]) &\n",
    "                            (df[\"close\"] < df[\"senkou_span_b\"]) &\n",
    "                            (df[\"close\"] < df[\"chikou_span\"]), -1, 0))\n",
    "\n",
    "    signal_data = df[df[\"signal\"] != 0].copy()\n",
    "\n",
    "    signal_data[\"pnl\"] = signal_data[\"close\"].pct_change() * signal_data[\"signal\"].shift(1)\n",
    "\n",
    "    return signal_data[\"pnl\"].sum()"
   ]
  },
  {
   "cell_type": "code",
   "execution_count": 60,
   "metadata": {},
   "outputs": [
    {
     "data": {
      "text/plain": [
       "0.04334188186900323"
      ]
     },
     "execution_count": 60,
     "metadata": {},
     "output_type": "execute_result"
    }
   ],
   "source": [
    "Ichimokubacktest(data,9,26)"
   ]
  },
  {
   "cell_type": "code",
   "execution_count": null,
   "metadata": {},
   "outputs": [],
   "source": []
  }
 ],
 "metadata": {
  "kernelspec": {
   "display_name": "Python 3",
   "language": "python",
   "name": "python3"
  },
  "language_info": {
   "codemirror_mode": {
    "name": "ipython",
    "version": 3
   },
   "file_extension": ".py",
   "mimetype": "text/x-python",
   "name": "python",
   "nbconvert_exporter": "python",
   "pygments_lexer": "ipython3",
   "version": "3.6.13"
  }
 },
 "nbformat": 4,
 "nbformat_minor": 4
}
